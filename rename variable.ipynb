{
  "nbformat": 4,
  "nbformat_minor": 0,
  "metadata": {
    "colab": {
      "name": "เปลี่ยนชื่อตัวแปรในโจทย์.ipynb",
      "provenance": []
    },
    "kernelspec": {
      "name": "python3",
      "display_name": "Python 3"
    }
  },
  "cells": [
    {
      "cell_type": "code",
      "metadata": {
        "id": "K8wquVk8KRi8",
        "colab_type": "code",
        "colab": {}
      },
      "source": [
        "def s(c): return '<'+c+'>'\n",
        "\n",
        "def f(p, index=0):\n",
        "  for i in range(26):\n",
        "    c = chr(65+i)\n",
        "    p = p.replace(c, s(c))\n",
        "  for i in range(26):\n",
        "    c = chr(65+i)\n",
        "    p = p.replace(s(c), '\" & char(65+H%d) & \"' % (i+1+index))  # char index is store at col H\n",
        "  p = '=\"' + p + '\"'\n",
        "  print(p)"
      ],
      "execution_count": 0,
      "outputs": []
    },
    {
      "cell_type": "code",
      "metadata": {
        "id": "RcxPERurKdcW",
        "colab_type": "code",
        "colab": {
          "base_uri": "https://localhost:8080/",
          "height": 34
        },
        "outputId": "0abc4215-02d6-422a-a49f-2770505037f1"
      },
      "source": [
        "p = 'ถ้า A=B แล้ว A-B=?'\n",
        "f(p)"
      ],
      "execution_count": 3,
      "outputs": [
        {
          "output_type": "stream",
          "text": [
            "=\"ถ้า \" & char(65+H1) & \"=\" & char(65+H2) & \" แล้ว \" & char(65+H1) & \"-\" & char(65+H2) & \"=?\"\n"
          ],
          "name": "stdout"
        }
      ]
    },
    {
      "cell_type": "code",
      "metadata": {
        "id": "E2t6lU4SMI_E",
        "colab_type": "code",
        "colab": {}
      },
      "source": [
        ""
      ],
      "execution_count": 0,
      "outputs": []
    }
  ]
}
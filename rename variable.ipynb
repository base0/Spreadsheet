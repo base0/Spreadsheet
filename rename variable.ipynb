{
  "nbformat": 4,
  "nbformat_minor": 0,
  "metadata": {
    "colab": {
      "name": "Untitled3.ipynb",
      "provenance": []
    },
    "kernelspec": {
      "name": "python3",
      "display_name": "Python 3"
    }
  },
  "cells": [
    {
      "cell_type": "code",
      "metadata": {
        "id": "69KY3xlm2iwY",
        "colab_type": "code",
        "colab": {}
      },
      "source": [
        "def s(c): return '<'+c+'>'\n",
        "\n",
        "def f(p, index=0):\n",
        "  for i in range(26):\n",
        "    c = chr(65+i)\n",
        "    p = p.replace(c, s(c))\n",
        "  for i in range(26):\n",
        "    c = chr(65+i)\n",
        "    p = p.replace(s(c), '\" & H%d & \"' % (1+i+index))\n",
        "  print(p)"
      ],
      "execution_count": 0,
      "outputs": []
    },
    {
      "cell_type": "code",
      "metadata": {
        "id": "Ul_HowHJ2uF5",
        "colab_type": "code",
        "colab": {
          "base_uri": "https://localhost:8080/",
          "height": 34
        },
        "outputId": "b23494fa-74ce-41d3-93fa-b1a0dd7c6f4e"
      },
      "source": [
        "p = 'ถ้า A<B และ B<C ตัวแปรใดมีค่ามากสุด'\n",
        "\n",
        "f(p)"
      ],
      "execution_count": 4,
      "outputs": [
        {
          "output_type": "stream",
          "text": [
            "=\"ถ้า \" & H1 & \"<\" & H2 & \" และ \" & H2 & \"<\" & H3 & \" ตัวแปรใดมีค่ามากสุด\"\n"
          ],
          "name": "stdout"
        }
      ]
    },
    {
      "cell_type": "code",
      "metadata": {
        "id": "-2j9niQZ22zw",
        "colab_type": "code",
        "colab": {}
      },
      "source": [
        ""
      ],
      "execution_count": 0,
      "outputs": []
    }
  ]
}